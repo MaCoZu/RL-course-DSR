{
  "nbformat": 4,
  "nbformat_minor": 0,
  "metadata": {
    "colab": {
      "provenance": [],
      "authorship_tag": "ABX9TyOJigAhz4JFYHBN6haprSda",
      "include_colab_link": true
    },
    "kernelspec": {
      "name": "python3",
      "display_name": "Python 3"
    },
    "language_info": {
      "name": "python"
    }
  },
  "cells": [
    {
      "cell_type": "markdown",
      "metadata": {
        "id": "view-in-github",
        "colab_type": "text"
      },
      "source": [
        "<a href=\"https://colab.research.google.com/github/MaCoZu/RL-course-DSR/blob/main/interaction_with_env%20/learning_agent.ipynb\" target=\"_parent\"><img src=\"https://colab.research.google.com/assets/colab-badge.svg\" alt=\"Open In Colab\"/></a>"
      ]
    },
    {
      "cell_type": "code",
      "execution_count": null,
      "metadata": {
        "id": "JXpBqkwjdoV7"
      },
      "outputs": [],
      "source": [
        "# 0 - Choose an alogrithm from ray.rllib.algorithms, e.g. ray.rllib.algorithms.xxx as\n",
        "from ray.rllib.algorithm import DQNconfig\n",
        "\n",
        "# 1 - Configure the xxx algorithm\n",
        "# 1.1 - Convert the config to a dict by config.to_dict()\n",
        "# 1.2 - Examine the config and modify it if needed, e.g. change the \"learnign rate\"\n",
        "# to 0.0001, or the framework, or env\n",
        "# 2 - Create an agent with .build, train it, and examine the training reports report = agent.train()\n",
        "# 3 - Train the agent,\n",
        "\n",
        "# 4 - Run a loop for nr_trainings = 50 times agent.train()\n",
        "\n",
        "# 5 - Visualize the trained agent; This is similar to running the random_agent,\n",
        "# except that this time we have a trained agent\n",
        "# 5.1 - Create an environment similar to the training env.\n",
        "    # 5.2. Let the agent choose an action;\n",
        "    # 5.3. and pass it to the environment\n",
        "    # 5.4. How much reward did you get for that action? Keep the score!\n",
        "    # 5.5. Repeat the 5.{2,3, 4} until the end of the episode\n",
        "    # visualize the agent\n",
        "    # continue with the next step without closing the plot\n",
        "\n",
        "# 5.6. How much total reward you got? What does it mean to have large/small reward?"
      ]
    }
  ]
}