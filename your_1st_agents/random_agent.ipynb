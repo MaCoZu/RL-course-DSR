{
  "nbformat": 4,
  "nbformat_minor": 0,
  "metadata": {
    "colab": {
      "provenance": [],
      "authorship_tag": "ABX9TyN3ZYmRqkno0zSud6o89gPc",
      "include_colab_link": true
    },
    "kernelspec": {
      "name": "python3",
      "display_name": "Python 3"
    },
    "language_info": {
      "name": "python"
    }
  },
  "cells": [
    {
      "cell_type": "markdown",
      "metadata": {
        "id": "view-in-github",
        "colab_type": "text"
      },
      "source": [
        "<a href=\"https://colab.research.google.com/github/MaCoZu/RL-course-DSR/blob/main/your_1st_agents/random_agent.ipynb\" target=\"_parent\"><img src=\"https://colab.research.google.com/assets/colab-badge.svg\" alt=\"Open In Colab\"/></a>"
      ]
    },
    {
      "cell_type": "code",
      "source": [
        "!pip install gymnasium"
      ],
      "metadata": {
        "colab": {
          "base_uri": "https://localhost:8080/"
        },
        "id": "vFxAb6XcWu7x",
        "outputId": "e948f25c-47e5-4e64-b808-9c5224f0b2bd"
      },
      "execution_count": 21,
      "outputs": [
        {
          "output_type": "stream",
          "name": "stdout",
          "text": [
            "Requirement already satisfied: gymnasium in /usr/local/lib/python3.10/dist-packages (0.29.0)\n",
            "Requirement already satisfied: numpy>=1.21.0 in /usr/local/lib/python3.10/dist-packages (from gymnasium) (1.23.5)\n",
            "Requirement already satisfied: cloudpickle>=1.2.0 in /usr/local/lib/python3.10/dist-packages (from gymnasium) (2.2.1)\n",
            "Requirement already satisfied: typing-extensions>=4.3.0 in /usr/local/lib/python3.10/dist-packages (from gymnasium) (4.7.1)\n",
            "Requirement already satisfied: farama-notifications>=0.0.1 in /usr/local/lib/python3.10/dist-packages (from gymnasium) (0.0.4)\n"
          ]
        }
      ]
    },
    {
      "cell_type": "code",
      "source": [
        "!pip install --upgrade ipython\n"
      ],
      "metadata": {
        "colab": {
          "base_uri": "https://localhost:8080/",
          "height": 825
        },
        "id": "GbgIf8WzaLNg",
        "outputId": "05480833-8d70-4d6e-ebd8-232edb461574"
      },
      "execution_count": 22,
      "outputs": [
        {
          "output_type": "stream",
          "name": "stdout",
          "text": [
            "Requirement already satisfied: ipython in /usr/local/lib/python3.10/dist-packages (7.34.0)\n",
            "Collecting ipython\n",
            "  Downloading ipython-8.14.0-py3-none-any.whl (798 kB)\n",
            "\u001b[2K     \u001b[90m━━━━━━━━━━━━━━━━━━━━━━━━━━━━━━━━━━━━━━━\u001b[0m \u001b[32m798.7/798.7 kB\u001b[0m \u001b[31m6.3 MB/s\u001b[0m eta \u001b[36m0:00:00\u001b[0m\n",
            "\u001b[?25hRequirement already satisfied: backcall in /usr/local/lib/python3.10/dist-packages (from ipython) (0.2.0)\n",
            "Requirement already satisfied: decorator in /usr/local/lib/python3.10/dist-packages (from ipython) (4.4.2)\n",
            "Collecting jedi>=0.16 (from ipython)\n",
            "  Downloading jedi-0.19.0-py2.py3-none-any.whl (1.6 MB)\n",
            "\u001b[2K     \u001b[90m━━━━━━━━━━━━━━━━━━━━━━━━━━━━━━━━━━━━━━━━\u001b[0m \u001b[32m1.6/1.6 MB\u001b[0m \u001b[31m11.3 MB/s\u001b[0m eta \u001b[36m0:00:00\u001b[0m\n",
            "\u001b[?25hRequirement already satisfied: matplotlib-inline in /usr/local/lib/python3.10/dist-packages (from ipython) (0.1.6)\n",
            "Requirement already satisfied: pickleshare in /usr/local/lib/python3.10/dist-packages (from ipython) (0.7.5)\n",
            "Requirement already satisfied: prompt-toolkit!=3.0.37,<3.1.0,>=3.0.30 in /usr/local/lib/python3.10/dist-packages (from ipython) (3.0.39)\n",
            "Requirement already satisfied: pygments>=2.4.0 in /usr/local/lib/python3.10/dist-packages (from ipython) (2.16.1)\n",
            "Collecting stack-data (from ipython)\n",
            "  Downloading stack_data-0.6.2-py3-none-any.whl (24 kB)\n",
            "Requirement already satisfied: traitlets>=5 in /usr/local/lib/python3.10/dist-packages (from ipython) (5.7.1)\n",
            "Requirement already satisfied: pexpect>4.3 in /usr/local/lib/python3.10/dist-packages (from ipython) (4.8.0)\n",
            "Requirement already satisfied: parso<0.9.0,>=0.8.3 in /usr/local/lib/python3.10/dist-packages (from jedi>=0.16->ipython) (0.8.3)\n",
            "Requirement already satisfied: ptyprocess>=0.5 in /usr/local/lib/python3.10/dist-packages (from pexpect>4.3->ipython) (0.7.0)\n",
            "Requirement already satisfied: wcwidth in /usr/local/lib/python3.10/dist-packages (from prompt-toolkit!=3.0.37,<3.1.0,>=3.0.30->ipython) (0.2.6)\n",
            "Collecting executing>=1.2.0 (from stack-data->ipython)\n",
            "  Downloading executing-1.2.0-py2.py3-none-any.whl (24 kB)\n",
            "Collecting asttokens>=2.1.0 (from stack-data->ipython)\n",
            "  Downloading asttokens-2.2.1-py2.py3-none-any.whl (26 kB)\n",
            "Collecting pure-eval (from stack-data->ipython)\n",
            "  Downloading pure_eval-0.2.2-py3-none-any.whl (11 kB)\n",
            "Requirement already satisfied: six in /usr/local/lib/python3.10/dist-packages (from asttokens>=2.1.0->stack-data->ipython) (1.16.0)\n",
            "Installing collected packages: pure-eval, executing, jedi, asttokens, stack-data, ipython\n",
            "  Attempting uninstall: ipython\n",
            "    Found existing installation: ipython 7.34.0\n",
            "    Uninstalling ipython-7.34.0:\n",
            "      Successfully uninstalled ipython-7.34.0\n",
            "\u001b[31mERROR: pip's dependency resolver does not currently take into account all the packages that are installed. This behaviour is the source of the following dependency conflicts.\n",
            "google-colab 1.0.0 requires ipython==7.34.0, but you have ipython 8.14.0 which is incompatible.\u001b[0m\u001b[31m\n",
            "\u001b[0mSuccessfully installed asttokens-2.2.1 executing-1.2.0 ipython-8.14.0 jedi-0.19.0 pure-eval-0.2.2 stack-data-0.6.2\n"
          ]
        },
        {
          "output_type": "display_data",
          "data": {
            "application/vnd.colab-display-data+json": {
              "pip_warning": {
                "packages": [
                  "IPython"
                ]
              }
            }
          },
          "metadata": {}
        }
      ]
    },
    {
      "cell_type": "markdown",
      "source": [
        "# Random Agent\n",
        "Here you create an env and let an agent interact with it. You can measure how successful is the random agent, i.e. how much reward it accumulates."
      ],
      "metadata": {
        "id": "zGuRoBaxWjjY"
      }
    },
    {
      "cell_type": "markdown",
      "source": [
        "# 0 - Create an env."
      ],
      "metadata": {
        "id": "TvJBQdpPW4T0"
      }
    },
    {
      "cell_type": "code",
      "source": [
        "import numpy as np"
      ],
      "metadata": {
        "colab": {
          "base_uri": "https://localhost:8080/"
        },
        "id": "g7gEId_7aAqm",
        "outputId": "12bb634f-8bc0-4161-8395-684b07b3cfd5"
      },
      "execution_count": 20,
      "outputs": [
        {
          "output_type": "stream",
          "name": "stderr",
          "text": [
            "/usr/local/lib/python3.10/dist-packages/ipykernel/ipkernel.py:283: DeprecationWarning: `should_run_async` will not call `transform_cell` automatically in the future. Please pass the result to `transformed_cell` argument and any exception that happen during thetransform in `preprocessing_exc_tuple` in IPython 7.17 and above.\n",
            "  and should_run_async(code)\n"
          ]
        }
      ]
    },
    {
      "cell_type": "code",
      "source": [
        "import gym\n",
        "env = gym.make(\"CartPole-v1\", new_step_api=True)"
      ],
      "metadata": {
        "id": "9E3E54sNZORX"
      },
      "execution_count": 25,
      "outputs": []
    },
    {
      "cell_type": "markdown",
      "source": [
        "## 1 - Reset the env.\n",
        "Every env. should be started after creation and restarted after the episode finished._"
      ],
      "metadata": {
        "id": "t_qlebSyWry9"
      }
    },
    {
      "cell_type": "code",
      "source": [
        "env.reset()"
      ],
      "metadata": {
        "colab": {
          "base_uri": "https://localhost:8080/"
        },
        "id": "zlddqkLZZMLV",
        "outputId": "a8b7f3ee-907d-479d-f10e-d3f1dff6ffa4"
      },
      "execution_count": 27,
      "outputs": [
        {
          "output_type": "execute_result",
          "data": {
            "text/plain": [
              "array([-0.00885202, -0.04652259,  0.0093046 , -0.00133551], dtype=float32)"
            ]
          },
          "metadata": {},
          "execution_count": 27
        }
      ]
    },
    {
      "cell_type": "markdown",
      "source": [
        "## 2 - Let a random agent interact with the env.\n",
        "Now that we have an up and running environment it is time to interact with it."
      ],
      "metadata": {
        "id": "7WPQgZFSXQpW"
      }
    },
    {
      "cell_type": "markdown",
      "source": [
        "### 2.1. Choose a random action (with in the action space of the env.)\n",
        "Here we just choose a random action. In this case that we have a discrete action space, choosing an action is just taking a random integer in range [0, nr_actions)."
      ],
      "metadata": {
        "id": "ZK0lx_dkXt8c"
      }
    },
    {
      "cell_type": "code",
      "source": [
        "nr_actions = env.action_space.n\n",
        "a = np.random.randint(nr_actions)\n",
        "#\n",
        "a"
      ],
      "metadata": {
        "colab": {
          "base_uri": "https://localhost:8080/"
        },
        "id": "DRdPAaLCZpvL",
        "outputId": "5a3e2e28-245a-4c73-997f-dd78cdf4a3ed"
      },
      "execution_count": 29,
      "outputs": [
        {
          "output_type": "execute_result",
          "data": {
            "text/plain": [
              "0"
            ]
          },
          "metadata": {},
          "execution_count": 29
        }
      ]
    },
    {
      "cell_type": "markdown",
      "source": [
        "### 2.2. Pass the chose action to the environment\n",
        "Let's say the chose action is the action number ``a``. Now we want to tell the\n",
        "environment that this is the action we take, and the environment is going to inform\n",
        "us about the consequences of this action. Passing the action to environment is done by\n",
        "method ```step``` implemented in the environment.\n"
      ],
      "metadata": {
        "id": "NGOcjPGVYAnh"
      }
    },
    {
      "cell_type": "code",
      "source": [
        "s, r, terminated, truncated, info = env.step(action=a)\n",
        "total_reward = 0\n",
        "total_reward += r"
      ],
      "metadata": {
        "id": "-0eS78CcZAJp"
      },
      "execution_count": 30,
      "outputs": []
    },
    {
      "cell_type": "markdown",
      "source": [
        "### 2.3. How much reward did you get for that action? Keep the score!\n",
        "When the agent passes an action to the environment, the env. is going to inform the\n",
        "agent about how much immediate reward it got for that particular action from that\n",
        "particular state"
      ],
      "metadata": {
        "id": "50BJ5uo3Y84e"
      }
    },
    {
      "cell_type": "markdown",
      "source": [
        "### 2.4. Repeat the 2.{1,2,3} until the end of the episode\n",
        "After that the action is taken the env. is in new a state, from which the agent\n",
        "should take a new action, and pass that action to the env. This continues until the\n",
        "environment is terminated."
      ],
      "metadata": {
        "id": "htv-eImmb38y"
      }
    },
    {
      "cell_type": "markdown",
      "source": [
        "### 2.5. How much total reward you got?\n",
        "What does it mean to have large/small reward?"
      ],
      "metadata": {
        "id": "meRYKNHzb7Oe"
      }
    },
    {
      "cell_type": "markdown",
      "source": [
        "## 3. Repeat the whole section 2.\n",
        "Do you expect to get the same total reward?"
      ],
      "metadata": {
        "id": "8VMhJYG1b9hb"
      }
    }
  ]
}