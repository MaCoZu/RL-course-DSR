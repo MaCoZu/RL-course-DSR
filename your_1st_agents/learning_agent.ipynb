{
  "nbformat": 4,
  "nbformat_minor": 0,
  "metadata": {
    "colab": {
      "provenance": [],
      "authorship_tag": "ABX9TyM12rJmlp51oFPCZPPBbW47",
      "include_colab_link": true
    },
    "kernelspec": {
      "name": "python3",
      "display_name": "Python 3"
    },
    "language_info": {
      "name": "python"
    }
  },
  "cells": [
    {
      "cell_type": "markdown",
      "metadata": {
        "id": "view-in-github",
        "colab_type": "text"
      },
      "source": [
        "<a href=\"https://colab.research.google.com/github/MaCoZu/RL-course-DSR/blob/main/your_1st_agents/learning_agent.ipynb\" target=\"_parent\"><img src=\"https://colab.research.google.com/assets/colab-badge.svg\" alt=\"Open In Colab\"/></a>"
      ]
    },
    {
      "cell_type": "code",
      "source": [
        "!pip install gymnasium\n",
        "!pip install -U \"ray[air]\"\n",
        "!pip install lz4"
      ],
      "metadata": {
        "colab": {
          "base_uri": "https://localhost:8080/"
        },
        "id": "nJEndN_ogg7g",
        "outputId": "f1873e46-e142-4d3a-a1aa-6dbeff78f127"
      },
      "execution_count": 15,
      "outputs": [
        {
          "output_type": "stream",
          "name": "stdout",
          "text": [
            "Collecting lz4\n",
            "  Downloading lz4-4.3.2-cp310-cp310-manylinux_2_17_x86_64.manylinux2014_x86_64.whl (1.3 MB)\n",
            "\u001b[2K     \u001b[90m━━━━━━━━━━━━━━━━━━━━━━━━━━━━━━━━━━━━━━━━\u001b[0m \u001b[32m1.3/1.3 MB\u001b[0m \u001b[31m17.0 MB/s\u001b[0m eta \u001b[36m0:00:00\u001b[0m\n",
            "\u001b[?25hInstalling collected packages: lz4\n",
            "Successfully installed lz4-4.3.2\n"
          ]
        }
      ]
    },
    {
      "cell_type": "code",
      "execution_count": 18,
      "metadata": {
        "colab": {
          "base_uri": "https://localhost:8080/"
        },
        "id": "JXpBqkwjdoV7",
        "outputId": "edb86637-7363-497e-ed13-cb5136f5b165"
      },
      "outputs": [
        {
          "output_type": "stream",
          "name": "stderr",
          "text": [
            "/usr/local/lib/python3.10/dist-packages/ipykernel/ipkernel.py:283: DeprecationWarning: `should_run_async` will not call `transform_cell` automatically in the future. Please pass the result to `transformed_cell` argument and any exception that happen during thetransform in `preprocessing_exc_tuple` in IPython 7.17 and above.\n",
            "  and should_run_async(code)\n"
          ]
        }
      ],
      "source": [
        "from matplotlib import pyplot as plt\n",
        "import gymnasium as gym\n",
        "\n",
        "def visualize_env(env, pause_sec: float = 0.1) -> None:\n",
        "    \"\"\"Visualize the environment.\n",
        "\n",
        "    Args:\n",
        "        env (gym.Env): The environment to visualize.\n",
        "        pause_sec (float, optional): The number of seconds to pause. Defaults to 0.1.\n",
        "\n",
        "    \"\"\"\n",
        "    state_in_rgb = env.render()\n",
        "    # plot the state which is a 3D array with rgb values\n",
        "    plt.imshow(state_in_rgb)\n",
        "    # wait for 0.1 seconds\n",
        "    plt.pause(pause_sec)"
      ]
    },
    {
      "cell_type": "code",
      "source": [
        "# 0 - Choose an alogrithm from ray.rllib.algorithms, e.g. ray.rllib.algorithms.xxx as\n",
        "from ray.rllib.algorithms.dqn import DQNConfig\n",
        "\n",
        "# 1 - Configure the xxx algorithm\n",
        "# 1.1 - Convert the config to a dict by config.to_dict()\n",
        "# 1.2 - Examine the config and modify it if needed, e.g. change the \"num_gpus\" to 0,\n",
        "# and the learning_rate to 0.001, the environment with .environment(env=\"CartPole-v1\"), the\n",
        "# the framework\n",
        "config = DQNConfig()\n",
        "# 1.2 - Examine the config and modify it if needed, e.g. change the \"learnign rate\"\n",
        "# to 0.0001,\n",
        "config_as_dict = config.to_dict()\n",
        "config.environment(env=\"CartPole-v1\")\n",
        "config.framework(\"tf\")\n",
        "# 2 - Create an agent with .build, train it, and examine the training reports report = agent.train()\n",
        "agent = config.build()\n",
        "# 3 - Train the agent,\n",
        "reports = agent.train()\n",
        "print(reports)\n",
        "\n",
        "# 4 - Run a loop for nr_trainings = 50 times agent.train()\n",
        "nr_trainings = 5\n",
        "for _ in range(nr_trainings):\n",
        "    reports = agent.train()\n",
        "    print(_, reports[\"episode_reward_mean\"])"
      ],
      "metadata": {
        "id": "MvCf6PWpqmPB"
      },
      "execution_count": null,
      "outputs": []
    },
    {
      "cell_type": "code",
      "source": [
        "# 5 - Visualize the trained agent; This is similar to running the random_agent,\n",
        "# except that this time we have a trained agent\n",
        "# 5.1 - Create an environment similar to the training env.\n",
        "env = gym.make(\"CartPole-v1\", render_mode=\"rgb_array\")\n",
        "s, _ = env.reset()\n",
        "done = False\n",
        "cumulative_reward = 0\n",
        "\n",
        "while not done:\n",
        "    # 5.2. Let the agent choose an action;\n",
        "    a = agent.compute_single_action(observation=s, explore=False)\n",
        "    # 5.3. and pass it to the environment\n",
        "    s, r, terminated, truncated, info = env.step(action=a)\n",
        "\n",
        "    # 5.4. How much reward did you get for that action? Keep the score!\n",
        "    cumulative_reward += r\n",
        "    done = terminated or truncated\n",
        "    # 5.5. Repeat the 5.{2,3, 4} until the end of the episode\n",
        "    # visualize the agent\n",
        "    visualize_env(env=env, pause_sec=0.1)\n",
        "    # continue with the next step without closing the plot\n",
        "\n",
        "# 5.6. How much total reward you got? What does it mean to have large/small reward?\n",
        "print(\"Total reward:\", cumulative_reward)\n",
        "\n",
        "print(\"Good-bye.\")"
      ],
      "metadata": {
        "id": "Z6E_1e1G-D7s"
      },
      "execution_count": null,
      "outputs": []
    }
  ]
}