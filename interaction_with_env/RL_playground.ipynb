{
  "nbformat": 4,
  "nbformat_minor": 0,
  "metadata": {
    "colab": {
      "provenance": [],
      "authorship_tag": "ABX9TyNMnjdTrHsKMY5sqOx1YBp1",
      "include_colab_link": true
    },
    "kernelspec": {
      "name": "python3",
      "display_name": "Python 3"
    },
    "language_info": {
      "name": "python"
    }
  },
  "cells": [
    {
      "cell_type": "markdown",
      "metadata": {
        "id": "view-in-github",
        "colab_type": "text"
      },
      "source": [
        "<a href=\"https://colab.research.google.com/github/MaCoZu/RL-course-DSR/blob/main/interaction_with_env/RL_playground.ipynb\" target=\"_parent\"><img src=\"https://colab.research.google.com/assets/colab-badge.svg\" alt=\"Open In Colab\"/></a>"
      ]
    },
    {
      "cell_type": "code",
      "source": [
        "!pip install gymnasium"
      ],
      "metadata": {
        "colab": {
          "base_uri": "https://localhost:8080/"
        },
        "id": "bWfNlZhYOiuU",
        "outputId": "22ee4537-d490-430b-fb11-ef32ca716351"
      },
      "execution_count": 1,
      "outputs": [
        {
          "output_type": "stream",
          "name": "stdout",
          "text": [
            "Collecting gymnasium\n",
            "  Downloading gymnasium-0.29.0-py3-none-any.whl (953 kB)\n",
            "\u001b[?25l     \u001b[90m━━━━━━━━━━━━━━━━━━━━━━━━━━━━━━━━━━━━━━━━\u001b[0m \u001b[32m0.0/953.8 kB\u001b[0m \u001b[31m?\u001b[0m eta \u001b[36m-:--:--\u001b[0m\r\u001b[2K     \u001b[91m━━━━━━━━━━━━━━━━━━━━━━━━━━━━━━━━━━━━━\u001b[0m\u001b[91m╸\u001b[0m \u001b[32m952.3/953.8 kB\u001b[0m \u001b[31m30.1 MB/s\u001b[0m eta \u001b[36m0:00:01\u001b[0m\r\u001b[2K     \u001b[90m━━━━━━━━━━━━━━━━━━━━━━━━━━━━━━━━━━━━━━\u001b[0m \u001b[32m953.8/953.8 kB\u001b[0m \u001b[31m22.1 MB/s\u001b[0m eta \u001b[36m0:00:00\u001b[0m\n",
            "\u001b[?25hRequirement already satisfied: numpy>=1.21.0 in /usr/local/lib/python3.10/dist-packages (from gymnasium) (1.23.5)\n",
            "Requirement already satisfied: cloudpickle>=1.2.0 in /usr/local/lib/python3.10/dist-packages (from gymnasium) (2.2.1)\n",
            "Requirement already satisfied: typing-extensions>=4.3.0 in /usr/local/lib/python3.10/dist-packages (from gymnasium) (4.7.1)\n",
            "Collecting farama-notifications>=0.0.1 (from gymnasium)\n",
            "  Downloading Farama_Notifications-0.0.4-py3-none-any.whl (2.5 kB)\n",
            "Installing collected packages: farama-notifications, gymnasium\n",
            "Successfully installed farama-notifications-0.0.4 gymnasium-0.29.0\n"
          ]
        }
      ]
    },
    {
      "cell_type": "code",
      "source": [
        "import gymnasium as gym\n",
        "\n",
        "# Create an environment\n",
        "env = gym.make(\"CartPole-v1\", render_mode=\"rgb_array\")\n",
        "\n",
        "# 0 - Reset the environment\n",
        "env.reset()\n",
        "\n",
        "# 1 - Let's examine the environment\n",
        "# 1.1 - Check the observation space of the agent\n",
        "observation_space = env.observation_space\n",
        "print(\"Observation Space:\", observation_space)\n",
        "\n",
        "# 1.2 - Check the action space of the agent\n",
        "action_space = env.action_space\n",
        "print(\"Action Space:\", action_space)\n",
        "\n",
        "# 1.3 - Render the environment\n",
        "env.render()"
      ],
      "metadata": {
        "id": "FYWkADdOeia_"
      },
      "execution_count": null,
      "outputs": []
    },
    {
      "cell_type": "code",
      "source": [
        "# 1.4 - Reset the environment\n",
        "env.reset()\n",
        "\n",
        "# 1.5 - Check the source code of the environment\n",
        "\n",
        "\n",
        "# 2 - Interact with the environment\n",
        "# 2.1 - Push the cart to the left once\n",
        "action = 0  # Left\n",
        "s, r, terminated, truncated, info = env.step(action)\n",
        "print(\"Observation after action:\", s)"
      ],
      "metadata": {
        "colab": {
          "base_uri": "https://localhost:8080/"
        },
        "id": "O6nM9E1ufLrp",
        "outputId": "4050282f-3885-4262-db4d-f047b0965075"
      },
      "execution_count": 21,
      "outputs": [
        {
          "output_type": "stream",
          "name": "stdout",
          "text": [
            "Observation after action: [-0.03144931 -0.24196966 -0.02301958  0.32511085]\n"
          ]
        }
      ]
    },
    {
      "cell_type": "code",
      "source": [
        "env.render()"
      ],
      "metadata": {
        "id": "6PrUSQmypJmr"
      },
      "execution_count": 15,
      "outputs": []
    },
    {
      "cell_type": "code",
      "source": [
        "done = False\n",
        "\n",
        "# 2.2 - Repeat the action above until the pole falls (episode is terminated)\n",
        "while not done:\n",
        "    s, r, terminated, truncated, info = env.step(action)\n",
        "    env.render()  # Uncomment this line to see the environment\n",
        "    done = terminated or truncated\n",
        "\n",
        "    if done:\n",
        "        print(\"Episode terminated. Resetting environment.\")\n",
        "        observation = env.reset()  # Reset the environment for a new episode\n"
      ],
      "metadata": {
        "colab": {
          "base_uri": "https://localhost:8080/"
        },
        "id": "OyMT8iqEpGtC",
        "outputId": "8c602199-eb86-4cd2-853f-a6d9ee357671"
      },
      "execution_count": 28,
      "outputs": [
        {
          "output_type": "stream",
          "name": "stdout",
          "text": [
            "Episode terminated. Resetting environment.\n"
          ]
        }
      ]
    },
    {
      "cell_type": "code",
      "source": [
        "from matplotlib import pyplot as plt\n",
        "\n",
        "\n",
        "def visualize_env(env: gymnasium.Env, pause_sec: float = 0.1) -> None:\n",
        "    \"\"\"Visualize the environment.\n",
        "\n",
        "    Args:\n",
        "        env (gym.Env): The environment to visualize.\n",
        "        pause_sec (float, optional): The number of seconds to pause. Defaults to 0.1.\n",
        "\n",
        "    \"\"\"\n",
        "    state_in_rgb = env.render()\n",
        "    # plot the state which is a 3D array with rgb values\n",
        "    plt.imshow(state_in_rgb)\n",
        "    # wait for 0.1 seconds\n",
        "    plt.pause(pause_sec)"
      ],
      "metadata": {
        "id": "aoIlPyVKrrJG"
      },
      "execution_count": 23,
      "outputs": []
    },
    {
      "cell_type": "code",
      "source": [
        "visualize_env(env=env, pause_sec=0.1)"
      ],
      "metadata": {
        "colab": {
          "base_uri": "https://localhost:8080/",
          "height": 396
        },
        "id": "qpTmvdMqr1gL",
        "outputId": "9999e1a3-fb96-4a41-dbb9-f48ac6150eae"
      },
      "execution_count": 29,
      "outputs": [
        {
          "output_type": "display_data",
          "data": {
            "text/plain": [
              "<Figure size 640x480 with 1 Axes>"
            ],
            "image/png": "[encoded data removed]"
          },
          "metadata": {}
        }
      ]
    }
  ]
}